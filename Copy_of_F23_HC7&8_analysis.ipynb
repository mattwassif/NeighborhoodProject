{
  "nbformat": 4,
  "nbformat_minor": 0,
  "metadata": {
    "colab": {
      "private_outputs": true,
      "provenance": [],
      "toc_visible": true,
      "include_colab_link": true
    },
    "kernelspec": {
      "display_name": "Python 3",
      "language": "python",
      "name": "python3"
    },
    "language_info": {
      "codemirror_mode": {
        "name": "ipython",
        "version": 3
      },
      "file_extension": ".py",
      "mimetype": "text/x-python",
      "name": "python",
      "nbconvert_exporter": "python",
      "pygments_lexer": "ipython3",
      "version": "3.8.5"
    }
  },
  "cells": [
    {
      "cell_type": "markdown",
      "metadata": {
        "id": "view-in-github",
        "colab_type": "text"
      },
      "source": [
        "<a href=\"https://colab.research.google.com/github/mattwassif/NeighborhoodProject/blob/main/Copy_of_F23_HC7%268_analysis.ipynb\" target=\"_parent\"><img src=\"https://colab.research.google.com/assets/colab-badge.svg\" alt=\"Open In Colab\"/></a>"
      ]
    },
    {
      "cell_type": "markdown",
      "metadata": {
        "id": "Q5ysDChCGCGR"
      },
      "source": [
        "# HC7 Data Exploration and Cleaning"
      ]
    },
    {
      "cell_type": "markdown",
      "source": [
        "**Our Bronx Notebook**\n",
        "\n",
        "Mitchell Lipyansky\n",
        "\n",
        "Anthony Tommaso\n",
        "\n",
        "Matthew Wassif\n",
        "\n",
        "Isabel Arce\n"
      ],
      "metadata": {
        "id": "ENnLN7sS30SR"
      }
    },
    {
      "cell_type": "markdown",
      "source": [
        "## These are the three libraries that we need to import in order to properly convey our data:\n",
        "\n",
        "---\n",
        "\n",
        "\n",
        "\"pandas\" is used for data sets.\n",
        "\n",
        "\"matplotlib.pylot\" is for plotting & arrays.\n",
        "\n",
        "Finally, \"gdown\" is imported for the user to download a file from Google Drive to Python."
      ],
      "metadata": {
        "id": "v7IX9J4roaS8"
      }
    },
    {
      "cell_type": "code",
      "source": [
        "import pandas as pd\n",
        "import matplotlib.pyplot as plt\n",
        "import gdown"
      ],
      "metadata": {
        "id": "XAIU-WskHJCI"
      },
      "execution_count": null,
      "outputs": []
    },
    {
      "cell_type": "code",
      "source": [
        "# download the file from our drive\n",
        "!wget https://huntercsci127.github.io/files/clean_heat_dataset.csv"
      ],
      "metadata": {
        "id": "Otbk-TyNpiHg"
      },
      "execution_count": null,
      "outputs": []
    },
    {
      "cell_type": "code",
      "source": [
        "#list the files in the current directory to confirm the file is there\n",
        "!ls"
      ],
      "metadata": {
        "id": "LyA6zpXgpjpl"
      },
      "execution_count": null,
      "outputs": []
    },
    {
      "cell_type": "code",
      "source": [
        "#We're having the code read in the csv into a data frame.\n",
        "clean_heat = pd.read_csv(\"clean_heat_dataset.csv\")\n",
        "\n",
        "print(\"The dimension of the table is: \", clean_heat.shape)"
      ],
      "metadata": {
        "id": "LcHYdEfPpyw5"
      },
      "execution_count": null,
      "outputs": []
    },
    {
      "cell_type": "code",
      "source": [
        "print(\"Number of dataponts with null entry for each column:\\n\",clean_heat.isnull().sum())\n"
      ],
      "metadata": {
        "id": "3ztdbpmN_5p8"
      },
      "execution_count": null,
      "outputs": []
    },
    {
      "cell_type": "code",
      "source": [
        "clean_heat['BIN'].value_counts()"
      ],
      "metadata": {
        "id": "t8-fmZxH_-QS"
      },
      "execution_count": null,
      "outputs": []
    },
    {
      "cell_type": "code",
      "source": [
        "columns= ['Borough, Block, Lot #', 'Street Address', 'Postcode', 'Borough', 'Utility', 'Building Manager', 'Owner', 'Owner Address', 'Owner Telephone', 'DEP Boiler Application #', '#6 Deadline', 'Boiler Model', '# of Identical Boilers', 'Boiler Capacity (Gross  BTU)', 'Boiler Installation Date', 'Boiler Age Range', 'Est. Retirement Year', 'Burner Model', 'Primary Fuel', 'Total Gallons (High)', 'Total Gallons (Low)', 'Total MMBTU (High)', 'Total MMBTU (low)', 'Greener Greater Buildings', 'GGB Deadline', 'Building Type', 'Council District', 'Community Board', 'Bldg Sqft', '# of Bldgs', '# of Floors', '# of Res. Units', 'Total Units', 'Year Built', 'Condo?', 'Coop?', 'Latitude', 'Longitude', 'Census Tract', 'BIN', 'BBL', 'NTA']\n",
        "cat_columns= ['Street Address', 'Borough', 'Utility', 'Building Manager', 'Owner','Owner Address','Owner Telephone', 'DEP Boiler Application #','Boiler Model','Boiler Age Range', 'Burner Model', 'Primary Fuel', 'Building Type', 'Community Board', 'Bldg Sqft', 'Condo?', 'Coop?', 'NTA']\n",
        "num_columns=['Borough, Block, Lot #','Postcode','#6 Deadline','# of Identical Boilers','Boiler Capacity (Gross  BTU)', 'Boiler Installation Date',  'Est. Retirement Year', 'Total Gallons (Low)', 'Total MMBTU (High)', 'Total MMBTU (low)', 'Greener Greater Buildings', 'GGB Deadline', 'Council District', '# of Bldgs', '# of Floors', '# of Res. Units', 'Total Units', 'Year Built','Latitude', 'Longitude', 'Census Tract', 'BIN', 'BBL']"
      ],
      "metadata": {
        "id": "uxk7hkxm_-1T"
      },
      "execution_count": null,
      "outputs": []
    },
    {
      "cell_type": "code",
      "source": [
        "clean_heat[num_columns]=clean_heat[num_columns].fillna(value=0)"
      ],
      "metadata": {
        "id": "prImFin9ALPk"
      },
      "execution_count": null,
      "outputs": []
    },
    {
      "cell_type": "code",
      "source": [
        "clean_heat[cat_columns]=clean_heat[cat_columns].fillna(value=\"\")"
      ],
      "metadata": {
        "id": "uompYzboAGxj"
      },
      "execution_count": null,
      "outputs": []
    },
    {
      "cell_type": "markdown",
      "source": [
        "# Now, we will dive deeper with our data!\n",
        "\n",
        "We are going to further analyze the data and manipulate it in order to convey results pertaining to the borough of the Bronx."
      ],
      "metadata": {
        "id": "8YL_i2iSqQjJ"
      }
    },
    {
      "cell_type": "code",
      "source": [
        "# General data exploration\n",
        "print(clean_heat.head())  # Showing the first few rows to understand the data structure\n",
        "print(clean_heat.describe())  # Summary statistics for the dataset\n",
        "print(clean_heat.isnull().sum())  # Checking for missing values\n"
      ],
      "metadata": {
        "id": "XIcJfT8OE_fz"
      },
      "execution_count": null,
      "outputs": []
    },
    {
      "cell_type": "code",
      "source": [
        "# Analyzing the Bronx\n",
        "bronx_data = clean_heat[clean_heat['Borough'] == 'Bronx']\n",
        "print(bronx_data.describe())  # Summary statistics for the Bronx"
      ],
      "metadata": {
        "id": "vLH5JPD_FPoG"
      },
      "execution_count": null,
      "outputs": []
    },
    {
      "cell_type": "code",
      "source": [
        "# Average building age in the Bronx\n",
        "average_age_bronx = bronx_data['Year Built'].mean()\n",
        "print(\"Average building age in the Bronx:\", average_age_bronx.round())"
      ],
      "metadata": {
        "id": "86ZOo0mGGGm4"
      },
      "execution_count": null,
      "outputs": []
    },
    {
      "cell_type": "markdown",
      "source": [
        "We notice that the **\"average building age\"** of most buildings in the Bronx is **1929**. This is a huge contribution to the health of the children and elderly living in certain parts like Melrose or Mott Haven, since they are at increased chances of getting asthma. The materials used in the buildings are also extremely old, and most likely spread cancer causing or gaseous air throughout the borough."
      ],
      "metadata": {
        "id": "WuYB_OUBC5Ob"
      }
    },
    {
      "cell_type": "code",
      "source": [
        "# Building Type distribution in the Bronx\n",
        "bronx_building_type = bronx_data['Building Type'].value_counts(normalize=True)\n",
        "print(\"Building Type distribution in the Bronx:\")\n",
        "print(bronx_building_type)"
      ],
      "metadata": {
        "id": "r3Fu5mtJHN_l"
      },
      "execution_count": null,
      "outputs": []
    },
    {
      "cell_type": "markdown",
      "source": [
        "Concerningly, the reader could notice that *\"Hospitals and Health\"* are towards the ***bottom*** of the list. This may explain why so many people have health issue within the Bronx that go untreated, since there are no nearby hospitals. There are also an **alarming number of Factory & Industrial buildings**, which we can note that there is an increased risk of c02 emissions since there is a large amount of them."
      ],
      "metadata": {
        "id": "kRFBwWwTDbsv"
      }
    },
    {
      "cell_type": "code",
      "source": [
        "# Average boiler installation date in the Bronx\n",
        "average_boiler_age_bronx = bronx_data['Boiler Installation Date'].mean()\n",
        "print(\"Average boiler installation date in the Bronx:\", average_boiler_age_bronx.round())"
      ],
      "metadata": {
        "id": "_Yos4paLIJwL"
      },
      "execution_count": null,
      "outputs": []
    },
    {
      "cell_type": "code",
      "source": [
        "# Average MMBTU totals in the Bronx\n",
        "average_mmbtu_bronx = bronx_data['Total MMBTU (low)'].mean()\n",
        "print(\"Average MMBTU totals in the Bronx:\", average_mmbtu_bronx)"
      ],
      "metadata": {
        "id": "OauLgw5YJ40U"
      },
      "execution_count": null,
      "outputs": []
    },
    {
      "cell_type": "code",
      "source": [
        "# Average boiler capacity in the Bronx\n",
        "average_boiler_capacity_bronx = bronx_data['Boiler Capacity (Gross  BTU)'].mean()\n",
        "print(\"Average boiler capacity in the Bronx:\", average_boiler_capacity_bronx)"
      ],
      "metadata": {
        "id": "cOHraKAlOAeM"
      },
      "execution_count": null,
      "outputs": []
    },
    {
      "cell_type": "code",
      "source": [
        "# Distribution of primary fuel used in the Bronx\n",
        "primary_fuel = bronx_data['Primary Fuel'].value_counts(normalize=True)\n",
        "print(\"Primary fuel type distribution in the Bronx:\")\n",
        "print(primary_fuel)"
      ],
      "metadata": {
        "id": "V-jYhbPcPJAu"
      },
      "execution_count": null,
      "outputs": []
    },
    {
      "cell_type": "markdown",
      "source": [
        "Number 4 and 6 fuels are derived from petroleum, and are used all throughout heating system engines in the borough. With number 4 being the oil of higher usage, it greatly contributes to the ongoing chemical and air pollution within the Bronx. As shown in our groups HC3, \"In NYC, these oils were identified as significant contributors to pollution, being responsible for 86% of soot pollution despite being\n",
        "used in only 1% of buildings.\" This thereby elucidates the fact that oils 4 & 6 are heavy contributers of pollution, and they are both used."
      ],
      "metadata": {
        "id": "XEBBJLtjPenr"
      }
    },
    {
      "cell_type": "code",
      "source": [
        "# Distribution of burner models in the Bronx\n",
        "burner_model = bronx_data['Burner Model'].value_counts(normalize=True)\n",
        "print(\"Burner model distribution in the Bronx:\")\n",
        "print(burner_model)"
      ],
      "metadata": {
        "id": "M-XZ5KjlQUMK"
      },
      "execution_count": null,
      "outputs": []
    },
    {
      "cell_type": "markdown",
      "source": [
        "#Now that we have given general information, we are going to manipulate it in order to show graphs based on both the borough & individual neighborhoods!\n",
        "\n",
        "---\n",
        "\n"
      ],
      "metadata": {
        "id": "tTIZh3s27CRW"
      }
    },
    {
      "cell_type": "code",
      "source": [
        "#Now, we will only be selecting rows pertaining to the Bronx itself and graphing it.\n",
        "st = clean_heat[clean_heat['Borough'].isin(['Bronx'])]\n",
        "print(\"Number of entries in the Bronx: \", len(st))"
      ],
      "metadata": {
        "id": "UkdZ4OcY6UNC"
      },
      "execution_count": null,
      "outputs": []
    },
    {
      "cell_type": "code",
      "source": [
        "boro_group = clean_heat.groupby(['Borough'])"
      ],
      "metadata": {
        "id": "Mijgols563xI"
      },
      "execution_count": null,
      "outputs": []
    },
    {
      "cell_type": "code",
      "source": [
        "boro_group['Total Gallons (Low)'].mean().plot.bar()\n",
        "plt.title('Average Total Gallons (Low)')\n",
        "plt.xlabel('Borough')\n",
        "plt.ylabel('Gallons')\n"
      ],
      "metadata": {
        "id": "TW975HbkPo3n"
      },
      "execution_count": null,
      "outputs": []
    },
    {
      "cell_type": "code",
      "source": [
        "boro_group['Total MMBTU (low)'].mean().plot.bar()\n",
        "plt.title('Average Total MMBTU (low)')\n",
        "plt.xlabel('Borough')\n",
        "plt.ylabel('MMBTU')"
      ],
      "metadata": {
        "id": "AI3O9IAwTwS4"
      },
      "execution_count": null,
      "outputs": []
    },
    {
      "cell_type": "code",
      "source": [
        "percentages = boro_group['Total Units'].mean()\n",
        "plt.ylabel('')\n",
        "plt.xlabel('Total Units')\n",
        "percentages.plot.pie(autopct='%1.1f%%')"
      ],
      "metadata": {
        "id": "d_otHqgRUxCc"
      },
      "execution_count": null,
      "outputs": []
    },
    {
      "cell_type": "code",
      "source": [
        "boro_group['# of Floors'].max().plot.bar()\n",
        "plt.title('Max Number of Floors')\n",
        "plt.xlabel('Borough')\n",
        "plt.ylabel('Number of Floors')\n"
      ],
      "metadata": {
        "id": "qqoRM2dtZpgD"
      },
      "execution_count": null,
      "outputs": []
    },
    {
      "cell_type": "markdown",
      "source": [
        "From this bar graph, we can see that Manhattan has the highest number of floors for buildings in the borough. Interestingly enough, the Bronx is second, with the max number of floors being around 30. From this, we may be able to make the assumption that both Manhattan and Bronx suffer from heavy air pollution, and this is because the buildings can contribute to pollutants being spread amongst the environment. This, combined with other emissions, according to our groups HC4 Emissions Report, contriubtes to \"approximately 11% of the local fine particulate matter and 28% of the nitrogen oxide emissions.”"
      ],
      "metadata": {
        "id": "VSywwmSNHQ5r"
      }
    },
    {
      "cell_type": "markdown",
      "source": [
        "DATA FOR BRONX NEIGHBORHOODS"
      ],
      "metadata": {
        "id": "P79rA_2rcgq2"
      }
    },
    {
      "cell_type": "code",
      "source": [
        "neighborhoods = ['Fordham South', 'West Farms-Bronx River', 'Bronxdale', 'Pelham Bay-Country Club-City Island', 'Westchester-Unionport']\n",
        "\n",
        "# Filter the DataFrame to include only the specific neighborhoods\n",
        "NTA_data = clean_heat[clean_heat['NTA'].isin(neighborhoods)]\n",
        "NTA_group = NTA_data.groupby(['NTA'])\n",
        "\n"
      ],
      "metadata": {
        "id": "mGrk2aEQh08f"
      },
      "execution_count": null,
      "outputs": []
    },
    {
      "cell_type": "code",
      "source": [
        "NTA_group['# of Res. Units'].mean().plot.bar()\n",
        "plt.title(\"Number of Residental Units\")\n",
        "plt.xlabel('Neighborhood')\n",
        "plt.ylabel('Floors')"
      ],
      "metadata": {
        "id": "_dME62-skMCJ"
      },
      "execution_count": null,
      "outputs": []
    },
    {
      "cell_type": "markdown",
      "source": [
        "From the following bar graph, we are able to determine that Bronxdale has the most amount of housing for residents, with the number being well over 80. South Fordham, on the other hand, exhibts the lowest amount of available housing. Since South Fordham is located in the South Bronx, when compared to our findings in HC4, the South Bronx often has increasingly concerning traffic congestion. This may elucidate the idea that there are too much highways and roads, but not enough space for residents. They also contribute heavily to the c02 emissions - affecting around 17% of young children in the South Bronx neighborhoods."
      ],
      "metadata": {
        "id": "clGyXX1aD-M0"
      }
    },
    {
      "cell_type": "code",
      "source": [
        "NTA_group['Total MMBTU (low)'].max().plot.bar()\n",
        "plt.title('Low MMBTU')\n",
        "plt.xlabel('Neighborhoods')\n",
        "plt.ylabel('MMBTU Output')"
      ],
      "metadata": {
        "id": "-VleVsDnpgGB"
      },
      "execution_count": null,
      "outputs": []
    },
    {
      "cell_type": "markdown",
      "source": [
        "With Bronxdale having an alarmingly high MMBTU, it goes to show that there is most likely a high demand for things like heat and a high volume of citizens living there. However, high MMBTU contributes to varioius types of pollution such as Greenhouse Gas Emissions, land pollution (waste disposal), indoor air pollution, and chemical pollution since there are constant chemicals being released into the air. This may also contribute to the idea we discussed in HC4, where the Bronx is lagging behind the other boroughs in terms of its emissions goal. Last time we researched, it was only determined that the Bronx reached a mere 7% dec"
      ],
      "metadata": {
        "id": "q1C9yn7bOGXa"
      }
    },
    {
      "cell_type": "code",
      "source": [
        "NTA_group['Boiler Capacity (Gross  BTU)'].mean().plot.bar()\n",
        "plt.title('Boiler Capacity')\n",
        "plt.xlabel('Neighborhoods')\n",
        "plt.ylabel('Gross BTU Boiler Capacity')"
      ],
      "metadata": {
        "id": "aNwm049GMTO9"
      },
      "execution_count": null,
      "outputs": []
    }
  ]
}